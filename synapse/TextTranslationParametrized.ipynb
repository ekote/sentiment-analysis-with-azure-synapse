{
 "nbformat": 4,
 "nbformat_minor": 2,
 "metadata": {
  "kernelspec": {
   "name": "synapse_pyspark",
   "display_name": "Synapse PySpark"
  },
  "language_info": {
   "name": "python"
  },
  "description": null,
  "save_output": true,
  "synapse_widget": {
   "version": "0.1",
   "state": {
    "adb06651-d6d2-4087-a7ad-0181114f8450": {
     "type": "Synapse.DataFrame",
     "sync_state": {
      "table": {
       "rows": [
        {
         "0": "Tak pomagacie ludziom",
         "1": "pl",
         "2": "1.0",
         "3": "This is how you help people"
        },
        {
         "0": "Zgadzam się że jest motorem napędowym postępu gospodarczo-spo\nłecznego  jednak nie jest taka prosta do przeprowadzenia\n. W Polsce w firmach brakuje często kompetentnych w tym temacie pracowników  a szefostwo czasami nie wie jak to ugryźć itd. Dobrze że powstają takie inicjatywy jak platforma przemysłu przyszłości  gdzie można czerpać wiedzę wprost od ekspertów z branży w zakresie cyfryzacji przemysłu.",
         "1": "pl",
         "2": "1.0",
         "3": "I agree that it is the driving force behind economic and social progress\nHowever, it is not so easy to carry out\n. In Poland, companies often lack competent employees in this subject and the management sometimes does not know how to bite it, etc. It is good that initiatives such as the industry platform of the future are being created, where you can draw knowledge directly from industry experts in the field of digitization of industry."
        },
        {
         "0": "Na chmurę przystanek nie potrzebny",
         "1": "pl",
         "2": "1.0",
         "3": "No stop needed for the cloud"
        },
        {
         "0": "To jest chore. Padlem ofiara kradziezy z waszego konta a z wami nie ma sie jak skontaktowac",
         "1": "pl",
         "2": "1.0",
         "3": "It's sick. I fell victim stealing from your account and with you there is no way to contact"
        },
        {
         "0": "Jerzy Ziemniak",
         "1": "pl",
         "2": "1.0",
         "3": "Jerzy Ziemniak"
        }
       ],
       "schema": [
        {
         "key": "0",
         "name": "Original",
         "type": "string"
        },
        {
         "key": "1",
         "name": "Detected language",
         "type": "string"
        },
        {
         "key": "2",
         "name": "Detected language score",
         "type": "double"
        },
        {
         "key": "3",
         "name": "Translation",
         "type": "string"
        }
       ]
      },
      "isSummary": false,
      "language": "scala"
     },
     "persist_state": {
      "view": {
       "type": "details",
       "tableOptions": {},
       "chartOptions": {
        "chartType": "bar",
        "aggregationType": "sum",
        "categoryFieldKeys": [
         "0"
        ],
        "seriesFieldKeys": [
         "2"
        ],
        "isStacked": false
       }
      }
     }
    }
   }
  }
 },
 "cells": [
  {
   "cell_type": "code",
   "execution_count": 55,
   "outputs": [
    {
     "output_type": "display_data",
     "data": {
      "application/vnd.livy.statement-meta+json": {
       "spark_pool": "new",
       "session_id": 97,
       "statement_id": 1,
       "state": "finished",
       "livy_statement_state": "available",
       "queued_time": "2021-12-10T10:06:11.5122125Z",
       "session_start_time": "2021-12-10T10:06:11.5480726Z",
       "execution_start_time": "2021-12-10T10:08:29.6755364Z",
       "execution_finish_time": "2021-12-10T10:08:29.6757185Z"
      },
      "text/plain": "StatementMeta(new, 97, 1, Finished, Available)"
     },
     "metadata": {}
    }
   ],
   "metadata": {
    "tags": [
     "parameters"
    ]
   },
   "source": [
    "project_name = ''"
   ]
  },
  {
   "cell_type": "code",
   "execution_count": 56,
   "outputs": [
    {
     "output_type": "display_data",
     "data": {
      "application/vnd.livy.statement-meta+json": {
       "spark_pool": "new",
       "session_id": 97,
       "statement_id": 2,
       "state": "finished",
       "livy_statement_state": "available",
       "queued_time": "2021-12-10T10:06:31.7242124Z",
       "session_start_time": null,
       "execution_start_time": "2021-12-10T10:08:29.789231Z",
       "execution_finish_time": "2021-12-10T10:08:52.7904767Z"
      },
      "text/plain": "StatementMeta(new, 97, 2, Finished, Available)"
     },
     "metadata": {}
    }
   ],
   "metadata": {
    "jupyter": {
     "source_hidden": false,
     "outputs_hidden": false
    },
    "nteract": {
     "transient": {
      "deleting": false
     }
    }
   },
   "source": [
    "# access to the data\n",
    "\n",
    "ADLS_PATH = \"abfss://container@storage_account.dfs.core.windows.net/fb-scraper/\" + project_name # TODO put your proper path\n",
    "posts_file = spark.read.option('header','true').option('delimiter', ',').option(\"multiline\", 'true').option(\"quote\", '\"').option(\"escape\", '\"').csv(ADLS_PATH + \"/bronze/\" + project_name + '_posts.csv')\n",
    "comments_file = spark.read.option('header','true').option('delimiter', ',').option(\"multiline\", 'true').option(\"quote\", '\"').option(\"escape\", '\"').csv(ADLS_PATH + \"/bronze/\" + project_name + '_comments.csv')\n"
   ]
  },
  {
   "cell_type": "code",
   "execution_count": 62,
   "outputs": [
    {
     "output_type": "display_data",
     "data": {
      "application/vnd.livy.statement-meta+json": {
       "spark_pool": "new",
       "session_id": 97,
       "statement_id": 8,
       "state": "finished",
       "livy_statement_state": "available",
       "queued_time": "2021-12-10T10:10:33.9858567Z",
       "session_start_time": null,
       "execution_start_time": "2021-12-10T10:10:34.0967865Z",
       "execution_finish_time": "2021-12-10T10:10:35.1667495Z"
      },
      "text/plain": "StatementMeta(new, 97, 8, Finished, Available)"
     },
     "metadata": {}
    }
   ],
   "metadata": {
    "jupyter": {
     "source_hidden": false,
     "outputs_hidden": false
    },
    "nteract": {
     "transient": {
      "deleting": false
     }
    }
   },
   "source": [
    "# select column for the translation\n",
    "\n",
    "comments = comments_file.select(\"comment_text\", \"comment_id\", \"post_id\").collect()\n",
    "posts = posts_file.select(\"text\", \"post_id\").collect()"
   ]
  },
  {
   "cell_type": "code",
   "execution_count": 63,
   "outputs": [
    {
     "output_type": "display_data",
     "data": {
      "application/vnd.livy.statement-meta+json": {
       "spark_pool": "new",
       "session_id": 97,
       "statement_id": 9,
       "state": "finished",
       "livy_statement_state": "available",
       "queued_time": "2021-12-10T10:10:42.0379758Z",
       "session_start_time": null,
       "execution_start_time": "2021-12-10T10:10:42.1499401Z",
       "execution_finish_time": "2021-12-10T10:10:42.6429309Z"
      },
      "text/plain": "StatementMeta(new, 97, 9, Finished, Available)"
     },
     "metadata": {}
    }
   ],
   "metadata": {
    "jupyter": {
     "source_hidden": false,
     "outputs_hidden": false
    },
    "nteract": {
     "transient": {
      "deleting": false
     }
    }
   },
   "source": [
    "import requests, uuid, json\n",
    "\n",
    "def translate_to_en(text: str):\n",
    "    subscription_key = \"\"\n",
    "    endpoint = \"https://api.cognitive.microsofttranslator.com\"\n",
    "    location = \"northeurope\"\n",
    "    path = '/translate'\n",
    "    constructed_url = endpoint + path\n",
    "\n",
    "    constructed_url = endpoint + path\n",
    "\n",
    "    headers = {\n",
    "        'Ocp-Apim-Subscription-Key': subscription_key,\n",
    "        'Ocp-Apim-Subscription-Region': location,\n",
    "        'Content-type': 'application/json',\n",
    "        'X-ClientTraceId': str(uuid.uuid4())\n",
    "    }\n",
    "\n",
    "    body = [{\n",
    "        'text': text\n",
    "    }]\n",
    "    params = {\n",
    "        'api-version': '3.0',\n",
    "        # 'from': 'pl',\n",
    "        'to': 'en'\n",
    "    }\n",
    "    request = requests.post(constructed_url, params=params, headers=headers, json=body)\n",
    "    response = request.json()\n",
    "    r = json.dumps(response, sort_keys=True, ensure_ascii=False, indent=4, separators=(',', ': '))\n",
    "    return r"
   ]
  },
  {
   "cell_type": "code",
   "execution_count": 67,
   "outputs": [
    {
     "output_type": "display_data",
     "data": {
      "application/vnd.livy.statement-meta+json": {
       "spark_pool": "new",
       "session_id": 97,
       "statement_id": 13,
       "state": "finished",
       "livy_statement_state": "available",
       "queued_time": "2021-12-10T10:16:05.1874415Z",
       "session_start_time": null,
       "execution_start_time": "2021-12-10T10:16:29.7468112Z",
       "execution_finish_time": "2021-12-10T10:17:02.8443791Z"
      },
      "text/plain": "StatementMeta(new, 97, 13, Finished, Available)"
     },
     "metadata": {}
    }
   ],
   "metadata": {
    "jupyter": {
     "source_hidden": false,
     "outputs_hidden": false
    },
    "nteract": {
     "transient": {
      "deleting": false
     }
    }
   },
   "source": [
    "# translate comments\n",
    "\n",
    "original_comments = []\n",
    "languages_detected = []\n",
    "languages_detected_score = []\n",
    "translations = []\n",
    "c_ids = []\n",
    "p_ids = []\n",
    "\n",
    "for comment in comments:\n",
    "    c = comment.asDict()[\"comment_text\"].replace(\"\\n\", \"\")\n",
    "    if c:\n",
    "        c_id_ = comment.asDict()[\"comment_id\"]\n",
    "        p_id_ = comment.asDict()[\"post_id\"]\n",
    "        c_ids.append(c_id_)\n",
    "        p_ids.append(p_id_)\n",
    "        original_comments.append(c)\n",
    "        res = json.loads(translate_to_en(c))[0]\n",
    "        languages_detected.append(res[\"detectedLanguage\"][\"language\"])\n",
    "        languages_detected_score.append(res[\"detectedLanguage\"][\"score\"])\n",
    "        translations.append(res[\"translations\"][0][\"text\"])"
   ]
  },
  {
   "cell_type": "code",
   "execution_count": 22,
   "outputs": [
    {
     "output_type": "display_data",
     "data": {
      "application/vnd.livy.statement-meta+json": {
       "spark_pool": "new",
       "session_id": 84,
       "statement_id": 22,
       "state": "finished",
       "livy_statement_state": "available",
       "queued_time": "2021-12-09T21:52:41.0609869Z",
       "session_start_time": null,
       "execution_start_time": "2021-12-09T21:52:41.1783407Z",
       "execution_finish_time": "2021-12-09T21:52:42.9650457Z"
      },
      "text/plain": "StatementMeta(new, 84, 22, Finished, Available)"
     },
     "metadata": {}
    }
   ],
   "metadata": {
    "jupyter": {
     "source_hidden": false,
     "outputs_hidden": false
    },
    "nteract": {
     "transient": {
      "deleting": false
     }
    },
    "collapsed": false
   },
   "source": [
    "final_results = sqlContext.createDataFrame(zip(original_comments, languages_detected, languages_detected_score, translations, c_ids, p_ids), schema=['Original', 'Detected language', 'Detected language score', 'Translation', 'CommentID', 'PostID'])\n",
    "final_results.write.format(\"csv\").option(\"header\",\"true\").option(\"sep\",\",\").mode(\"overwrite\").save(ADLS_PATH + \"/silver/\" + 'comments_en.csv')\n",
    "# display(final_results)"
   ]
  },
  {
   "cell_type": "code",
   "execution_count": 24,
   "outputs": [
    {
     "output_type": "display_data",
     "data": {
      "application/vnd.livy.statement-meta+json": {
       "spark_pool": "new",
       "session_id": 84,
       "statement_id": 24,
       "state": "finished",
       "livy_statement_state": "cancelled",
       "queued_time": "2021-12-09T21:53:33.5406124Z",
       "session_start_time": null,
       "execution_start_time": "2021-12-09T21:53:33.6489452Z",
       "execution_finish_time": "2021-12-09T21:54:26.2267051Z"
      },
      "text/plain": "StatementMeta(new, 84, 24, Finished, Cancelled)"
     },
     "metadata": {}
    }
   ],
   "metadata": {
    "jupyter": {
     "source_hidden": false,
     "outputs_hidden": false
    },
    "nteract": {
     "transient": {
      "deleting": false
     }
    },
    "collapsed": false
   },
   "source": [
    "# translate posts\n",
    "\n",
    "original_posts = []\n",
    "languages_detected = []\n",
    "languages_detected_score = []\n",
    "translations = []\n",
    "p_ids = []\n",
    "\n",
    "\n",
    "for post in posts:\n",
    "    c = post.asDict()[\"text\"]\n",
    "    if c:\n",
    "        original_posts.append(c)\n",
    "        p_id_ = post.asDict()[\"post_id\"]\n",
    "        p_ids.append(p_id_)\n",
    "        res = json.loads(translate_to_en(c))[0]\n",
    "        languages_detected.append(res[\"detectedLanguage\"][\"language\"])\n",
    "        languages_detected_score.append(res[\"detectedLanguage\"][\"score\"])\n",
    "        translations.append(res[\"translations\"][0][\"text\"])\n",
    "\n",
    "final_results = sqlContext.createDataFrame(zip(original_posts, languages_detected, languages_detected_score, translations, p_ids), schema=['Original', 'Detected language', 'Detected language score', 'Translation', 'PostID'])\n",
    "\n",
    "final_results.write.format(\"csv\").option(\"header\",\"true\").option(\"sep\",\",\").mode(\"overwrite\").save(ADLS_PATH + '/silver/' + 'posts_en.csv')\n",
    "\n",
    "# display(final_results)"
   ]
  }
 ]
}