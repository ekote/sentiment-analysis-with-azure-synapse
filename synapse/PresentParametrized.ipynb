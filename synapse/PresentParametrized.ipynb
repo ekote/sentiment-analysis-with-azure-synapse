{
 "nbformat": 4,
 "nbformat_minor": 2,
 "cells": [
  {
   "cell_type": "code",
   "execution_count": null,
   "outputs": [],
   "metadata": {
    "jupyter": {
     "source_hidden": false,
     "outputs_hidden": false
    },
    "nteract": {
     "transient": {
      "deleting": false
     }
    },
    "tags": [
     "parameters"
    ]
   },
   "source": [
    "project_name = ''"
   ]
  },
  {
   "cell_type": "code",
   "execution_count": null,
   "outputs": [],
   "metadata": {},
   "source": [
    "ADLS_PATH = \"abfss://container@storage_account.dfs.core.windows.net/fb-scraper/\" + project_name + \"/\"\n",
    "\n",
    "# original -> polish\n",
    "posts_file = spark.read.option('header','true').option('delimiter',',').csv(ADLS_PATH + \"/bronze/\" + project_name + '_posts.csv')\n",
    "comments_file = spark.read.option('header','true').option('delimiter',',').csv(ADLS_PATH + \"/bronze/\" + project_name + '_comments.csv')\n",
    "\n",
    "# translated -> english\n",
    "posts_file_en = spark.read.option('header','true').option('delimiter',',').csv(ADLS_PATH + \"/silver/\" +'posts_en.csv')\n",
    "comments_file_en = spark.read.option('header','true').option('delimiter',',').csv(ADLS_PATH + \"/silver/\" +'comments_en.csv')\n",
    "\n",
    "# sentiment of comments\n",
    "comments_sentiment = spark.read.option('header','true').option('delimiter',',').csv(ADLS_PATH + \"/gold/\" +'comments_sentiment.csv')\n",
    "\n",
    "# sentiment of news\n",
    "news_sentiment = spark.read.option('header','true').option('delimiter',',').csv(ADLS_PATH + \"/silver/\" + 'news_sentiment.csv')\n"
   ]
  },
  {
   "cell_type": "code",
   "execution_count": null,
   "outputs": [],
   "metadata": {
    "jupyter": {
     "source_hidden": false,
     "outputs_hidden": false
    },
    "nteract": {
     "transient": {
      "deleting": false
     }
    }
   },
   "source": [
    "# results = sqlContext.createDataFrame(zip(posts_file_en, sentiment, comments_sentiment), schema=['comments', 'sentiment', 'positive', 'neutral', 'negative'])"
   ]
  },
  {
   "cell_type": "code",
   "execution_count": 7,
   "outputs": [
    {
     "output_type": "display_data",
     "data": {
      "application/vnd.livy.statement-meta+json": {
       "spark_pool": "new",
       "session_id": 37,
       "statement_id": 7,
       "state": "finished",
       "livy_statement_state": "available",
       "queued_time": "2021-10-28T20:13:58.5969452Z",
       "session_start_time": null,
       "execution_start_time": "2021-10-28T20:13:58.6942622Z",
       "execution_finish_time": "2021-10-28T20:13:59.2086819Z"
      },
      "text/plain": "StatementMeta(new, 37, 7, Finished, Available)"
     },
     "metadata": {}
    },
    {
     "output_type": "display_data",
     "data": {
      "application/vnd.synapse.widget-view+json": {
       "widget_id": "40e158b9-3819-4cf0-84ba-3c2bedde49bf",
       "widget_type": "Synapse.DataFrame"
      },
      "text/plain": "SynapseWidget(Synapse.DataFrame, 40e158b9-3819-4cf0-84ba-3c2bedde49bf)"
     },
     "metadata": {}
    }
   ],
   "metadata": {
    "jupyter": {
     "source_hidden": false,
     "outputs_hidden": false
    },
    "nteract": {
     "transient": {
      "deleting": false
     }
    },
    "collapsed": false
   },
   "source": [
    "display(news_sentiment)"
   ]
  }
 ],
 "metadata": {
  "description": null,
  "save_output": true,
  "kernelspec": {
   "name": "synapse_pyspark",
   "display_name": "Synapse PySpark"
  },
  "language_info": {
   "name": "python"
  },
  "synapse_widget": {
   "version": "0.1",
   "state": {
    "40e158b9-3819-4cf0-84ba-3c2bedde49bf": {
     "type": "Synapse.DataFrame",
     "sync_state": {
      "table": {
       "rows": [
        {
         "0": "The  PwC  Net Zero Economy Index 2021 “finds that a decarbonisation rate of 12.9% – more than five times greater than what was achieved over the last year [2.5%] and eight times faster than the ...",
         "1": "positive",
         "2": "0.8",
         "3": "0.15",
         "4": "0.05"
        },
        {
         "0": "The Global Reporting Initiative has confirmed Eelco van der Enden, a partner at PwC Netherlands, as the next CEO of the sustainability standard-setter, starting Jan. 1, 2022.",
         "1": "neutral",
         "2": "0.01",
         "3": "0.99",
         "4": "0.0"
        },
        {
         "0": "Crime, regulation and technology are the three biggest concerns for insurers worldwide, according to new research by professional services firm PricewaterhouseCoopers ( PWC ). These results come from  PWC ’s biennial Insurance Banana Skins report ...",
         "1": "neutral",
         "2": "0.0",
         "3": "0.89",
         "4": "0.11"
        },
        {
         "0": "Nearly half (49%) of investors say a company’s failure to address ESG issues might prompt them to divest their investment in the company, according to PwC’s 2021 Global Investor ESG survey. The survey,",
         "1": "negative",
         "2": "0.0",
         "3": "0.0",
         "4": "1.0"
        },
        {
         "0": "Tune into another episode of Tech While You Trek to hear  PwC  Principal Michelle Wilkes share how  PwC  has upskilled their entire workforce and built more than 6,500 automations to optimize their processes, and why they are now offering some of these ...",
         "1": "neutral",
         "2": "0.12",
         "3": "0.87",
         "4": "0.01"
        },
        {
         "0": "BANGKOK, 28 October 2021 –  PwC  Thailand reveals that ransomware attacks are on the rise, and this will become the most serious cyber threat for Thai organisations. It’s becoming crucial to have strong third-party risk management and good cyber ...",
         "1": "mixed",
         "2": "0.48",
         "3": "0.03",
         "4": "0.49"
        },
        {
         "0": "Ensuring there is a capabilities fit between buyer and target is key to delivering a high-performing deal, according to a new study of 800 corporate acquisitions by the professional services firm",
         "1": "neutral",
         "2": "0.01",
         "3": "0.99",
         "4": "0.0"
        },
        {
         "0": "Big clients will no longer be conflicted out by strict audit rules that law firms allied with PwC had to follow.",
         "1": "neutral",
         "2": "0.4",
         "3": "0.48",
         "4": "0.12"
        },
        {
         "0": "In this mini-series, Middle East Transfer Pricing Leader Safae Guennoun and her team take a closer look at BEPS 2.0 and its implications for the region. The show is available in English and in Arabic.",
         "1": "neutral",
         "2": "0.01",
         "3": "0.98",
         "4": "0.01"
        },
        {
         "0": "Price Water House Coopers (PwC) and the United Nations Development Programme (UNDP) have signed a Memorandum of Understanding (MoU) to support a technology enabled approach to the",
         "1": "neutral",
         "2": "0.23",
         "3": "0.77",
         "4": "0.0"
        }
       ],
       "schema": [
        {
         "key": "0",
         "name": "news",
         "type": "string"
        },
        {
         "key": "1",
         "name": "sentiment",
         "type": "string"
        },
        {
         "key": "2",
         "name": "positive",
         "type": "string"
        },
        {
         "key": "3",
         "name": "neutral",
         "type": "string"
        },
        {
         "key": "4",
         "name": "negative",
         "type": "string"
        }
       ]
      },
      "isSummary": false,
      "language": "scala"
     },
     "persist_state": {
      "view": {
       "type": "details",
       "tableOptions": {},
       "chartOptions": {
        "chartType": "bar",
        "aggregationType": "count",
        "categoryFieldKeys": [
         "0"
        ],
        "seriesFieldKeys": [
         "0"
        ],
        "isStacked": false
       }
      }
     }
    }
   }
  }
 }
}