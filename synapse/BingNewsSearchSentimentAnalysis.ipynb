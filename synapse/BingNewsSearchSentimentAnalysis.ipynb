{
 "nbformat": 4,
 "nbformat_minor": 2,
 "cells": [
  {
   "cell_type": "markdown",
   "metadata": {
    "nteract": {
     "transient": {
      "deleting": false
     }
    }
   },
   "source": [
    "# Text Analytics"
   ]
  },
  {
   "cell_type": "markdown",
   "metadata": {
    "nteract": {
     "transient": {
      "deleting": false
     }
    }
   },
   "source": [
    "\n",
    "https://docs.microsoft.com/en-us/azure/cognitive-services/text-analytics/quickstarts/client-libraries-rest-api?tabs=version-3-2&pivots=rest-api"
   ]
  },
  {
   "cell_type": "code",
   "execution_count": 1,
   "outputs": [
    {
     "output_type": "display_data",
     "data": {
      "application/vnd.livy.statement-meta+json": {
       "spark_pool": "new",
       "session_id": 74,
       "statement_id": 1,
       "state": "finished",
       "livy_statement_state": "available",
       "queued_time": "2021-12-09T16:11:25.6914902Z",
       "session_start_time": "2021-12-09T16:11:25.7287037Z",
       "execution_start_time": "2021-12-09T16:13:43.6327676Z",
       "execution_finish_time": "2021-12-09T16:13:43.6329458Z"
      },
      "text/plain": "StatementMeta(new, 74, 1, Finished, Available)"
     },
     "metadata": {}
    }
   ],
   "metadata": {
    "jupyter": {
     "source_hidden": false,
     "outputs_hidden": false
    },
    "nteract": {
     "transient": {
      "deleting": false
     }
    },
    "collapsed": true
   },
   "source": [
    "import http.client, urllib.request, urllib.parse, urllib.error, base64, json\n",
    "import traceback\n",
    "\n",
    "# https://{endpoint}/text/analytics/v3.1/sentiment[?model-version][&showStats][&loggingOptOut][&opinionMining][&stringIndexType]\n",
    "def get_sentiment_analysis_cs(text: str):\n",
    "    assert text\n",
    "    \n",
    "    headers = {\n",
    "        'Content-Type': 'application/json',\n",
    "        'Ocp-Apim-Subscription-Key': '', ## TODO\n",
    "    }\n",
    "\n",
    "    params = urllib.parse.urlencode({\n",
    "        'model-version': 'latest',\n",
    "        'showStats': 'true',\n",
    "        'loggingOptOut': 'true',\n",
    "        'opinionMining': 'true',\n",
    "        'stringIndexType': 'TextElement_v8',\n",
    "    })\n",
    "\n",
    "    body = \"\"\"{\n",
    "        documents: [\n",
    "            {\n",
    "                id: \"1\",\n",
    "                \"language\": \"en\",\n",
    "                text: \" \"\"\" + text + \"\"\" \"\n",
    "            }\n",
    "        ]\n",
    "    }\"\"\"\n",
    "\n",
    "    try:\n",
    "        conn = http.client.HTTPSConnection('eastus.api.cognitive.microsoft.com')  ## TODO\n",
    "        conn.request(\"POST\", \"/text/analytics/v3.1/sentiment?%s\" % params, body.encode('utf-8'), headers)\n",
    "        response = conn.getresponse()\n",
    "        data = response.read()\n",
    "        conn.close()\n",
    "        return(json.loads(data))\n",
    "    except Exception:\n",
    "        traceback.print_exc()"
   ]
  },
  {
   "cell_type": "markdown",
   "metadata": {
    "nteract": {
     "transient": {
      "deleting": false
     }
    }
   },
   "source": [
    "# Bing News Search\n",
    "\n",
    "https://docs.microsoft.com/en-us/azure/cognitive-services/bing-news-search/python"
   ]
  },
  {
   "cell_type": "code",
   "execution_count": 2,
   "outputs": [
    {
     "output_type": "display_data",
     "data": {
      "application/vnd.livy.statement-meta+json": {
       "spark_pool": "new",
       "session_id": 74,
       "statement_id": 2,
       "state": "finished",
       "livy_statement_state": "available",
       "queued_time": "2021-12-09T16:27:10.9788432Z",
       "session_start_time": null,
       "execution_start_time": "2021-12-09T16:27:11.1507137Z",
       "execution_finish_time": "2021-12-09T16:27:11.1509036Z"
      },
      "text/plain": "StatementMeta(new, 74, 2, Finished, Available)"
     },
     "metadata": {}
    }
   ],
   "metadata": {
    "jupyter": {
     "source_hidden": false,
     "outputs_hidden": false
    },
    "nteract": {
     "transient": {
      "deleting": false
     }
    },
    "tags": [
     "parameters"
    ]
   },
   "source": [
    "search_term = 'microsoft'\n",
    "project_name = 'microsoft'"
   ]
  },
  {
   "cell_type": "code",
   "execution_count": 3,
   "outputs": [
    {
     "output_type": "display_data",
     "data": {
      "application/vnd.livy.statement-meta+json": {
       "spark_pool": "new",
       "session_id": 74,
       "statement_id": 3,
       "state": "finished",
       "livy_statement_state": "available",
       "queued_time": "2021-12-09T16:27:12.6687221Z",
       "session_start_time": null,
       "execution_start_time": "2021-12-09T16:27:12.7732555Z",
       "execution_finish_time": "2021-12-09T16:27:13.8614472Z"
      },
      "text/plain": "StatementMeta(new, 74, 3, Finished, Available)"
     },
     "metadata": {}
    }
   ],
   "metadata": {
    "jupyter": {
     "source_hidden": false,
     "outputs_hidden": false
    },
    "nteract": {
     "transient": {
      "deleting": false
     }
    }
   },
   "source": [
    "import requests\n",
    "import json\n",
    "\n",
    "subscription_key = \"\" # TODO\n",
    "search_url = \"https://eastus.api.cognitive.microsoft.com/bing/v7.0/news/search\" # TODO\n",
    "\n",
    "headers_2 = {\"Ocp-Apim-Subscription-Key\" : subscription_key}\n",
    "params_2  = {\"q\": search_term, \"textDecorations\": True, \"textFormat\": \"HTML\"}\n",
    "\n",
    "response = requests.get(search_url, headers=headers_2, params=params_2)\n",
    "\n",
    "response.raise_for_status()\n",
    "\n",
    "search_results = response.json()\n",
    "\n",
    "descriptions = [article[\"description\"] for article in search_results[\"value\"]]"
   ]
  },
  {
   "cell_type": "code",
   "execution_count": 4,
   "outputs": [
    {
     "output_type": "display_data",
     "data": {
      "application/vnd.livy.statement-meta+json": {
       "spark_pool": "new",
       "session_id": 74,
       "statement_id": 4,
       "state": "finished",
       "livy_statement_state": "available",
       "queued_time": "2021-12-09T16:27:16.8092144Z",
       "session_start_time": null,
       "execution_start_time": "2021-12-09T16:27:16.9089261Z",
       "execution_finish_time": "2021-12-09T16:27:17.879852Z"
      },
      "text/plain": "StatementMeta(new, 74, 4, Finished, Available)"
     },
     "metadata": {}
    },
    {
     "output_type": "stream",
     "name": "stdout",
     "text": "Microsoft Ireland has found that nearly half of Irish organisations don&#39;t have the right digital services to handle new working realities.\nSome Microsoft counterfeit software users are seeing a promotional banner for 50 percent off. Clicking the link takes you to this page, which explains the risks\nRather than threatening Office pirates with legal action, Microsoft is trying a new tactic: offer them a substantial discount to go legal. As Ghacks reports, Microsoft has been spotted detecting when a pirate copy of Microsoft Office is being used and popping-up a notification just below the ribbon bar.\nMicrosoft has offered a 50% discount on its cloud-based Microsoft 356 Personal and Family subscriptions as it continues its efforts to turn software pirates into paying customers. The company is nudging users using unlicensed Microsoft Office on their computers to subscribe at a discounted rate for the first year.\nUS Justice Department has reached a settlement with  Microsoft  Corp resolving allegations that it discriminated against non-US citizens by asking for unnecessary immigration documents during the early hiring process. An investigation found that the company ...\nMicrosoft offered further proof of its intent to play a growing role in the space sector by unveiling new Azure Space products and announcing partnerships with Airbus, Kongsberg Satellite Services, STE iDirect,\nTech giant Microsoft is reportedly offering a up to 50 per cent discount on its Office suite to some people who are using pirated versions.&quot;A new message in the Office ribbon bar\nMicrosoft is moving ahead with its work to bring Azure cloud capabilities to companies that need satellite, geospatial and other space-related technologies\nCyber security research company Avanan has highlighted an omission in Outlook that it says renders the product vulnerable to phishing techniques. In a blog post published today, the Check Point-owned company said that the Microsoft email client would display extensive details about spoofed email senders without authenticating the email first."
    }
   ],
   "metadata": {
    "jupyter": {
     "source_hidden": false,
     "outputs_hidden": false
    },
    "nteract": {
     "transient": {
      "deleting": false
     }
    }
   },
   "source": [
    "import unicodedata\n",
    "\n",
    "df = descriptions\n",
    "\n",
    "# https://docs.python.org/3/library/unicodedata.html#unicodedata.normalize\n",
    "\n",
    "# df = [str(unicodedata.normalize('NFKD', text).encode('ascii', 'ignore')) for text in df] \n",
    "# df = [text.replace(\"&#39;\", \"'\") for text in df]\n",
    "df = [text.replace('<b>', ' ') for text in df]\n",
    "df = [text.replace('</b>', ' ') for text in df]\n",
    "# df = [text.replace(\"&quot;\", ' ') for text in df]\n",
    "# df = [text.replace(\"<b>\", ' ') for text in df]\n",
    "# df = [text.replace(\"</b>\", ' ') for text in df]\n",
    "\n",
    "\n",
    "for d in df:\n",
    "    print(d)\n"
   ]
  },
  {
   "cell_type": "code",
   "execution_count": 5,
   "outputs": [
    {
     "output_type": "display_data",
     "data": {
      "application/vnd.livy.statement-meta+json": {
       "spark_pool": "new",
       "session_id": 74,
       "statement_id": 5,
       "state": "finished",
       "livy_statement_state": "available",
       "queued_time": "2021-12-09T16:30:15.4780734Z",
       "session_start_time": null,
       "execution_start_time": "2021-12-09T16:30:15.6753051Z",
       "execution_finish_time": "2021-12-09T16:30:20.9706507Z"
      },
      "text/plain": "StatementMeta(new, 74, 5, Finished, Available)"
     },
     "metadata": {}
    },
    {
     "output_type": "stream",
     "name": "stdout",
     "text": "Microsoft Ireland has found that nearly half of Irish organisations don&#39;t have the right digital services to handle new working realities.\nSome Microsoft counterfeit software users are seeing a promotional banner for 50 percent off. Clicking the link takes you to this page, which explains the risks\nRather than threatening Office pirates with legal action, Microsoft is trying a new tactic: offer them a substantial discount to go legal. As Ghacks reports, Microsoft has been spotted detecting when a pirate copy of Microsoft Office is being used and popping-up a notification just below the ribbon bar.\nMicrosoft has offered a 50% discount on its cloud-based Microsoft 356 Personal and Family subscriptions as it continues its efforts to turn software pirates into paying customers. The company is nudging users using unlicensed Microsoft Office on their computers to subscribe at a discounted rate for the first year.\nUS Justice Department has reached a settlement with  Microsoft  Corp resolving allegations that it discriminated against non-US citizens by asking for unnecessary immigration documents during the early hiring process. An investigation found that the company ...\nMicrosoft offered further proof of its intent to play a growing role in the space sector by unveiling new Azure Space products and announcing partnerships with Airbus, Kongsberg Satellite Services, STE iDirect,\nTech giant Microsoft is reportedly offering a up to 50 per cent discount on its Office suite to some people who are using pirated versions.&quot;A new message in the Office ribbon bar\nMicrosoft is moving ahead with its work to bring Azure cloud capabilities to companies that need satellite, geospatial and other space-related technologies\nCyber security research company Avanan has highlighted an omission in Outlook that it says renders the product vulnerable to phishing techniques. In a blog post published today, the Check Point-owned company said that the Microsoft email client would display extensive details about spoofed email senders without authenticating the email first."
    }
   ],
   "metadata": {
    "jupyter": {
     "source_hidden": false,
     "outputs_hidden": false
    },
    "nteract": {
     "transient": {
      "deleting": false
     }
    }
   },
   "source": [
    "des_df = df\n",
    "sentiment = []\n",
    "positive = []\n",
    "neutral = []\n",
    "negative = []\n",
    "\n",
    "for single_news in des_df:\n",
    "    print(str(single_news))\n",
    "    r = get_sentiment_analysis_cs(str(single_news))\n",
    "    # print(\"\\n\")\n",
    "    # print(r)\n",
    "    for i in r['documents']:\n",
    "        sentiment.append(i['sentiment'])\n",
    "        positive.append(i['confidenceScores']['positive'])\n",
    "        neutral.append(i['confidenceScores']['neutral'])\n",
    "        negative.append(i['confidenceScores']['negative'])\n",
    "\n",
    "    # print(res['documents'])\n",
    "    # sentiment.append(res['documents'])"
   ]
  },
  {
   "cell_type": "code",
   "execution_count": 6,
   "outputs": [
    {
     "output_type": "display_data",
     "data": {
      "application/vnd.livy.statement-meta+json": {
       "spark_pool": "new",
       "session_id": 74,
       "statement_id": 6,
       "state": "finished",
       "livy_statement_state": "available",
       "queued_time": "2021-12-09T16:30:36.9591317Z",
       "session_start_time": null,
       "execution_start_time": "2021-12-09T16:30:37.0649758Z",
       "execution_finish_time": "2021-12-09T16:30:58.0045286Z"
      },
      "text/plain": "StatementMeta(new, 74, 6, Finished, Available)"
     },
     "metadata": {}
    }
   ],
   "metadata": {
    "jupyter": {
     "source_hidden": false,
     "outputs_hidden": false
    },
    "nteract": {
     "transient": {
      "deleting": false
     }
    }
   },
   "source": [
    "results = sqlContext.createDataFrame(zip(des_df, sentiment, positive, neutral, negative), schema=['news', 'sentiment', 'positive', 'neutral', 'negative'])\n",
    "\n",
    "ADLS_PATH = \"abfss://container@storage_account.dfs.core.windows.net/fb-scraper/\" + project_name + \"/silver/\"\n",
    "\n",
    "results.write.format(\"csv\").option(\"header\",\"true\").option(\"sep\",\",\").mode(\"overwrite\").save(ADLS_PATH + 'news_sentiment.csv')\n",
    "\n",
    "# results.coalesce(1).write.option(\"header\",\"true\").option(\"sep\",\",\").mode(\"overwrite\").csv(ADLS_PATH + 'news_sentiment.csv')\n",
    "\n",
    "# results.show()\n"
   ]
  }
 ],
 "metadata": {
  "description": null,
  "save_output": true,
  "kernelspec": {
   "name": "synapse_pyspark",
   "display_name": "Synapse PySpark"
  },
  "language_info": {
   "name": "python"
  },
  "synapse_widget": {
   "version": "0.1",
   "state": {}
  }
 }
}