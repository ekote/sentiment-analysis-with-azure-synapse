{
 "nbformat": 4,
 "nbformat_minor": 2,
 "cells": [
  {
   "cell_type": "code",
   "execution_count": 45,
   "outputs": [
    {
     "output_type": "display_data",
     "data": {
      "application/vnd.livy.statement-meta+json": {
       "spark_pool": "new",
       "session_id": 90,
       "statement_id": 28,
       "state": "finished",
       "livy_statement_state": "available",
       "queued_time": "2021-12-09T22:53:42.0251225Z",
       "session_start_time": null,
       "execution_start_time": "2021-12-09T22:53:42.1500232Z",
       "execution_finish_time": "2021-12-09T22:53:42.3078542Z"
      },
      "text/plain": "StatementMeta(new, 90, 28, Finished, Available)"
     },
     "metadata": {}
    }
   ],
   "metadata": {},
   "source": [
    "import http.client, urllib.request, urllib.parse, urllib.error, base64, json\n",
    "import traceback\n",
    "\n",
    "\n",
    "headers = {\n",
    "    'Content-Type': 'application/json',\n",
    "    'Ocp-Apim-Subscription-Key': '', ## TODO\n",
    "}\n",
    "\n",
    "params = urllib.parse.urlencode({\n",
    "    'model-version': 'latest',\n",
    "    'showStats': 'true',\n",
    "    'loggingOptOut': 'true',\n",
    "    'opinionMining': 'true',\n",
    "    'stringIndexType': 'TextElement_v8',\n",
    "})\n",
    "\n",
    "# https://{endpoint}/text/analytics/v3.1/sentiment[?model-version][&showStats][&loggingOptOut][&opinionMining][&stringIndexType]\n",
    "def get_sentiment_analysis_cs(text: str):\n",
    "    assert text\n",
    "\n",
    "    body = {\n",
    "        'documents': [\n",
    "            {\n",
    "                'id': \"1\",\n",
    "                \"language\": \"en\",\n",
    "                'text': text\n",
    "            }\n",
    "        ]\n",
    "    }\n",
    "\n",
    "    body_json = json.dumps(body)\n",
    "\n",
    "    try:\n",
    "        conn = http.client.HTTPSConnection('eastus.api.cognitive.microsoft.com')  ## TODO\n",
    "        conn.request(\"POST\", \"/text/analytics/v3.1/sentiment?%s\" % params, body_json, headers)\n",
    "        response = conn.getresponse()\n",
    "        data = response.read()\n",
    "        conn.close()\n",
    "        return(json.loads(data))\n",
    "    except Exception:\n",
    "\n",
    "        traceback.print_exc()"
   ]
  },
  {
   "cell_type": "code",
   "execution_count": 19,
   "outputs": [
    {
     "output_type": "display_data",
     "data": {
      "application/vnd.livy.statement-meta+json": {
       "spark_pool": "new",
       "session_id": 90,
       "statement_id": 2,
       "state": "finished",
       "livy_statement_state": "available",
       "queued_time": "2021-12-09T22:31:12.0865743Z",
       "session_start_time": null,
       "execution_start_time": "2021-12-09T22:31:12.2135176Z",
       "execution_finish_time": "2021-12-09T22:31:12.3632644Z"
      },
      "text/plain": "StatementMeta(new, 90, 2, Finished, Available)"
     },
     "metadata": {}
    }
   ],
   "metadata": {
    "jupyter": {
     "source_hidden": false,
     "outputs_hidden": false
    },
    "nteract": {
     "transient": {
      "deleting": false
     }
    },
    "tags": [
     "parameters"
    ]
   },
   "source": [
    "project_name = ''"
   ]
  },
  {
   "cell_type": "code",
   "execution_count": 33,
   "outputs": [
    {
     "output_type": "display_data",
     "data": {
      "application/vnd.livy.statement-meta+json": {
       "spark_pool": "new",
       "session_id": 90,
       "statement_id": 16,
       "state": "finished",
       "livy_statement_state": "available",
       "queued_time": "2021-12-09T22:37:37.0100577Z",
       "session_start_time": null,
       "execution_start_time": "2021-12-09T22:37:37.1035216Z",
       "execution_finish_time": "2021-12-09T22:37:38.1692291Z"
      },
      "text/plain": "StatementMeta(new, 90, 16, Finished, Available)"
     },
     "metadata": {}
    }
   ],
   "metadata": {
    "jupyter": {
     "source_hidden": false,
     "outputs_hidden": false
    },
    "nteract": {
     "transient": {
      "deleting": false
     }
    },
    "collapsed": false
   },
   "source": [
    "ADLS_PATH = \"\"abfss://container@storage_account.dfs.core.windows.net/fb-scraper/\" + project_name\n",
    "\n",
    "posts_file = spark.read.option('header','true').option('delimiter',',').csv(ADLS_PATH + '/silver/posts_en.csv')\n",
    "comments_file = spark.read.option('header','true').option('delimiter',',').csv(ADLS_PATH + '/silver/comments_en.csv')\n",
    "comments_df = comments_file.select(\"Translation\", 'CommentID', 'PostID').collect()"
   ]
  },
  {
   "cell_type": "code",
   "execution_count": 50,
   "outputs": [
    {
     "output_type": "display_data",
     "data": {
      "application/vnd.livy.statement-meta+json": {
       "spark_pool": "new",
       "session_id": 90,
       "statement_id": 33,
       "state": "finished",
       "livy_statement_state": "cancelled",
       "queued_time": "2021-12-09T22:55:40.5077878Z",
       "session_start_time": null,
       "execution_start_time": "2021-12-09T22:55:40.6161102Z",
       "execution_finish_time": "2021-12-09T22:56:15.5898126Z"
      },
      "text/plain": "StatementMeta(new, 90, 33, Finished, Cancelled)"
     },
     "metadata": {}
    }
   ],
   "metadata": {
    "jupyter": {
     "source_hidden": false,
     "outputs_hidden": false
    },
    "nteract": {
     "transient": {
      "deleting": false
     }
    }
   },
   "source": [
    "des_df = comments_df\n",
    "flatten = []\n",
    "sentiment = []\n",
    "positive = []\n",
    "neutral = []\n",
    "negative = []\n",
    "c_ids = []\n",
    "p_ids = []\n",
    "\n",
    "for single_news in des_df:\n",
    "    if single_news.asDict()[\"Translation\"]:\n",
    "        s = single_news.asDict()[\"Translation\"]\n",
    "        # print(s) # .replace('\"', ' ').replace(\"'\", '')\n",
    "        r = get_sentiment_analysis_cs(s)\n",
    "        flatten.append(s)\n",
    "        c_id_ = single_news.asDict()[\"CommentID\"]\n",
    "        p_id_ = single_news.asDict()[\"PostID\"]\n",
    "        c_ids.append(c_id_)\n",
    "        p_ids.append(p_id_)\n",
    "        for i in r['documents']:\n",
    "            sentiment.append(i['sentiment'])\n",
    "            positive.append(i['confidenceScores']['positive'])\n",
    "            neutral.append(i['confidenceScores']['neutral'])\n",
    "            negative.append(i['confidenceScores']['negative'])"
   ]
  },
  {
   "cell_type": "code",
   "execution_count": 30,
   "outputs": [
    {
     "output_type": "display_data",
     "data": {
      "application/vnd.livy.statement-meta+json": {
       "spark_pool": "new",
       "session_id": 54,
       "statement_id": 30,
       "state": "finished",
       "livy_statement_state": "available",
       "queued_time": "2021-10-28T21:39:21.4886456Z",
       "session_start_time": null,
       "execution_start_time": "2021-10-28T21:39:21.61644Z",
       "execution_finish_time": "2021-10-28T21:39:22.1137209Z"
      },
      "text/plain": "StatementMeta(new, 54, 30, Finished, Available)"
     },
     "metadata": {}
    },
    {
     "output_type": "stream",
     "name": "stdout",
     "text": "+--------------------+---------+--------+-------+--------+\n|            comments|sentiment|positive|neutral|negative|\n+--------------------+---------+--------+-------+--------+\n|I think I'm about...|  neutral|     0.0|    1.0|     0.0|\n|Such a difference...| negative|    0.12|   0.22|    0.66|\n|which in his case...|  neutral|    0.01|    0.9|    0.09|\n|unfortunately you...| negative|     0.0|    0.0|     1.0|\n|It was great, a t...|    mixed|    0.66|   0.05|    0.29|\n|Wow! Super! Fruit...| positive|    0.95|   0.04|    0.01|\n|        Thank you 😉| positive|    0.99|   0.01|     0.0|\n|     Joanno brawo!👏|  neutral|    0.06|   0.92|    0.02|\n|  Congratulation! 😄| positive|    0.73|   0.24|    0.03|\n|Eventually, I ate...| negative|    0.37|   0.14|    0.49|\n|Only 2 for now, b...|  neutral|    0.01|   0.73|    0.26|\n|  Dominik Abramowicz|  neutral|    0.07|    0.9|    0.03|\n|   Joanna Kucharczyk|  neutral|    0.06|   0.93|    0.01|\n|Was it a take of ...| positive|    0.81|   0.17|    0.02|\n|Wlasnie sie skonc...|  neutral|     0.1|   0.52|    0.38|\n|  Karolina Kaczynska|  neutral|    0.07|   0.92|    0.01|\n| 7 i to minimum!😍😍|  neutral|    0.01|   0.99|     0.0|\n|      Congratulation| positive|    0.56|    0.4|    0.04|\n|Super! Congratula...| positive|    0.75|   0.22|    0.03|\n|I take them all☺️...|  neutral|    0.12|   0.86|    0.02|\n+--------------------+---------+--------+-------+--------+\nonly showing top 20 rows"
    }
   ],
   "metadata": {
    "jupyter": {
     "source_hidden": false,
     "outputs_hidden": false
    },
    "nteract": {
     "transient": {
      "deleting": false
     }
    }
   },
   "source": [
    "results = sqlContext.createDataFrame(zip(flatten, sentiment, positive, neutral, negative,  c_ids, p_ids), schema=['comments', 'sentiment', 'positive', 'neutral', 'negative', 'CommentID', 'PostID'])\r\n",
    "\r\n",
    "results.show()"
   ]
  },
  {
   "cell_type": "code",
   "execution_count": 32,
   "outputs": [
    {
     "output_type": "display_data",
     "data": {
      "application/vnd.livy.statement-meta+json": {
       "spark_pool": "new",
       "session_id": 54,
       "statement_id": 32,
       "state": "finished",
       "livy_statement_state": "available",
       "queued_time": "2021-10-28T21:39:35.7094292Z",
       "session_start_time": null,
       "execution_start_time": "2021-10-28T21:39:35.8348157Z",
       "execution_finish_time": "2021-10-28T21:39:37.6512203Z"
      },
      "text/plain": "StatementMeta(new, 54, 32, Finished, Available)"
     },
     "metadata": {}
    }
   ],
   "metadata": {
    "jupyter": {
     "source_hidden": false,
     "outputs_hidden": false
    },
    "nteract": {
     "transient": {
      "deleting": false
     }
    }
   },
   "source": [
    "results.write.format(\"csv\").option(\"header\",\"true\").option(\"sep\",\",\").mode(\"overwrite\").save(ADLS_PATH + \"/gold/\" + 'comments_sentiment.csv')"
   ]
  }
 ],
 "metadata": {
  "description": null,
  "save_output": true,
  "kernelspec": {
   "name": "synapse_pyspark",
   "display_name": "Synapse PySpark"
  },
  "language_info": {
   "name": "python"
  },
  "synapse_widget": {
   "version": "0.1",
   "state": {}
  }
 }
}